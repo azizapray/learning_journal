{
 "cells": [
  {
   "cell_type": "code",
   "execution_count": null,
   "metadata": {},
   "outputs": [],
   "source": [
    "from random import randint\n",
    "\n",
    "angka_komputer = randint(1, 10)\n",
    "angka_tebakan = 0\n",
    "kesempatan = 3\n",
    "\n",
    "while angka_tebakan != angka_komputer and kesempatan > 0:\n",
    "    angka_tebakan = input(f\"Anda memiliki {kesempatan} kali kesempatan menebak\\nMasukkan tebakan Anda : \")\n",
    "    angka_tebakan = int(angka_tebakan)\n",
    "    if angka_tebakan < angka_komputer:\n",
    "        print(\"Angka kekecilan\")\n",
    "        kesempatan -= 1\n",
    "    elif angka_tebakan > angka_komputer:\n",
    "        print(\"Angka kegedean\")\n",
    "        kesempatan -= 1\n",
    "    else:\n",
    "        print(\"Bener cuk!\")\n",
    "        print(f\"Angka komputer adalah {angka_komputer}\")\n",
    "    if kesempatan == 0:\n",
    "        print(\"DAH LAH!\")"
   ]
  },
  {
   "cell_type": "code",
   "execution_count": null,
   "metadata": {},
   "outputs": [],
   "source": []
  }
 ],
 "metadata": {
  "interpreter": {
   "hash": "75384fd0ca3c2952361a90566c13d130cab84e43a6c89416ac57c7dceece1b2d"
  },
  "kernelspec": {
   "display_name": "Python 3.9.7 64-bit ('base': conda)",
   "language": "python",
   "name": "python3"
  },
  "language_info": {
   "codemirror_mode": {
    "name": "ipython",
    "version": 3
   },
   "file_extension": ".py",
   "mimetype": "text/x-python",
   "name": "python",
   "nbconvert_exporter": "python",
   "pygments_lexer": "ipython3",
   "version": "3.9.7"
  },
  "orig_nbformat": 4
 },
 "nbformat": 4,
 "nbformat_minor": 2
}

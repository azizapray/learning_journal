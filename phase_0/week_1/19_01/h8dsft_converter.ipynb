{
 "cells": [
  {
   "cell_type": "code",
   "execution_count": 8,
   "metadata": {},
   "outputs": [
    {
     "name": "stdout",
     "output_type": "stream",
     "text": [
      "26.850000000000023\n",
      "298.15\n",
      "163.4\n",
      "260.33000000000004\n"
     ]
    }
   ],
   "source": [
    "# Merubah kelvin ke celcius\n",
    "def kelvinToCelcius(kelvinTemp):\n",
    "    return kelvinTemp - 273.15\n",
    "\n",
    "# Merubah celcius ke kelvin\n",
    "def celciusToKelvin(celciusTemp):\n",
    "    return celciusTemp + 273.15\n",
    "\n",
    "\n",
    "# Merubah ke Fahrenheit, Tambahkan parameter untuk memastikan argumen yang dimasukkan celcius / kelvin\n",
    "def temperatueToFahreinheit(temp,kind):\n",
    "    if kind == 'celcius':\n",
    "       return (temp*9/5) + 32\n",
    "    elif kind == 'kelvin':\n",
    "        # panggil fungsi pertama untuk merubah ke celcius dulu\n",
    "       return  (kelvinToCelcius(temp)*9/5) + 32\n",
    "    else:\n",
    "        return 0\n",
    "\n",
    "result = kelvinToCelcius(300)\n",
    "print(result)\n",
    "\n",
    "result = celciusToKelvin(25)\n",
    "print(result)\n",
    "\n",
    "result = temperatueToFahreinheit(73,'celcius')\n",
    "print(result)\n",
    "\n",
    "result = temperatueToFahreinheit(400,'kelvin')\n",
    "print(result)"
   ]
  },
  {
   "cell_type": "code",
   "execution_count": null,
   "metadata": {},
   "outputs": [],
   "source": []
  }
 ],
 "metadata": {
  "interpreter": {
   "hash": "75384fd0ca3c2952361a90566c13d130cab84e43a6c89416ac57c7dceece1b2d"
  },
  "kernelspec": {
   "display_name": "Python 3.9.7 64-bit ('base': conda)",
   "language": "python",
   "name": "python3"
  },
  "language_info": {
   "codemirror_mode": {
    "name": "ipython",
    "version": 3
   },
   "file_extension": ".py",
   "mimetype": "text/x-python",
   "name": "python",
   "nbconvert_exporter": "python",
   "pygments_lexer": "ipython3",
   "version": "3.9.7"
  },
  "orig_nbformat": 4
 },
 "nbformat": 4,
 "nbformat_minor": 2
}

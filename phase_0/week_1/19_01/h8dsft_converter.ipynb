{
 "cells": [
  {
   "cell_type": "code",
   "execution_count": 40,
   "metadata": {},
   "outputs": [
    {
     "name": "stdout",
     "output_type": "stream",
     "text": [
      "Temperatur input: 300 Kelvin\n",
      "Sama dengan 26.85 Celcius\n",
      "Sama dengan 80.33 Fahrenheit\n",
      "\n",
      "Temperatur input: 25.5 Celcius\n",
      "Sama dengan 77.9 Fahrenheit\n",
      "Sama dengan 298.65 Kelvin\n",
      "\n",
      "Temperatur input: 70 Fahrenheit\n",
      "Sama dengan 294.26 Kelvin\n",
      "Sama dengan 21.11 Celcius\n"
     ]
    }
   ],
   "source": [
    "def kelvin(ktemp):\n",
    "    ctemp = round(ktemp - 273.15, 2)\n",
    "    ftemp = round(ctemp * (9/5) + 32, 2)\n",
    "    return f\"Temperatur input: {ktemp} Kelvin\\nSama dengan {ctemp} Celcius\\nSama dengan {ftemp} Fahrenheit\"\n",
    "\n",
    "def celcius(ctemp):\n",
    "    ftemp = round(ctemp * (9/5) + 32, 2)\n",
    "    ktemp = round((ftemp - 32) * 5/9 + 273.15, 2)\n",
    "    return f\"\\nTemperatur input: {ctemp} Celcius\\nSama dengan {ftemp} Fahrenheit\\nSama dengan {ktemp} Kelvin\"\n",
    "\n",
    "def fahrenheit(ftemp):\n",
    "    ktemp = round((ftemp - 32) * 5/9 + 273.15, 2)\n",
    "    ctemp = round(ktemp - 273.15, 2)\n",
    "    return f\"\\nTemperatur input: {ftemp} Fahrenheit\\nSama dengan {ktemp} Kelvin\\nSama dengan {ctemp} Celcius\"\n",
    "\n",
    "print(kelvin(300))\n",
    "print(celcius(25.5))\n",
    "print(fahrenheit(70))"
   ]
  },
  {
   "cell_type": "code",
   "execution_count": null,
   "metadata": {},
   "outputs": [],
   "source": []
  }
 ],
 "metadata": {
  "interpreter": {
   "hash": "75384fd0ca3c2952361a90566c13d130cab84e43a6c89416ac57c7dceece1b2d"
  },
  "kernelspec": {
   "display_name": "Python 3.9.7 64-bit ('base': conda)",
   "language": "python",
   "name": "python3"
  },
  "language_info": {
   "codemirror_mode": {
    "name": "ipython",
    "version": 3
   },
   "file_extension": ".py",
   "mimetype": "text/x-python",
   "name": "python",
   "nbconvert_exporter": "python",
   "pygments_lexer": "ipython3",
   "version": "3.9.7"
  },
  "orig_nbformat": 4
 },
 "nbformat": 4,
 "nbformat_minor": 2
}

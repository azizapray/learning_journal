{
 "cells": [
  {
   "cell_type": "markdown",
   "metadata": {},
   "source": [
    "## Function"
   ]
  },
  {
   "cell_type": "code",
   "execution_count": 6,
   "metadata": {},
   "outputs": [
    {
     "name": "stdout",
     "output_type": "stream",
     "text": [
      "nasi goreng\n"
     ]
    }
   ],
   "source": [
    "def nama_makanan(makanan):\n",
    "    '''fungsi untuk mencetak nama makanan'''\n",
    "    print(makanan)\n",
    "\n",
    "nama_makanan('nasi goreng')"
   ]
  },
  {
   "cell_type": "code",
   "execution_count": 5,
   "metadata": {},
   "outputs": [
    {
     "name": "stdout",
     "output_type": "stream",
     "text": [
      "Hello Aziz Apray\n"
     ]
    }
   ],
   "source": [
    "def greet(FirstName, LastName):\n",
    "    print(f\"Hello {FirstName} {LastName}\")\n",
    "\n",
    "greet(\"Aziz\", \"Apray\")"
   ]
  },
  {
   "cell_type": "code",
   "execution_count": 14,
   "metadata": {},
   "outputs": [
    {
     "name": "stdout",
     "output_type": "stream",
     "text": [
      "\n",
      "Values outside the function - before:  [10, 20, 30]\n",
      "\n",
      "Values inside the function:  [10, 20, 30, 1, 2, 3, 4]\n",
      "\n",
      "Values outside the function - after:  [10, 20, 30, 1, 2, 3, 4]\n"
     ]
    }
   ],
   "source": [
    "def changeme(mylist):\n",
    "    ''''This changes a passed list into this function'''\n",
    "    mylist = mylist + [1, 2, 3, 4]\n",
    "    print(\"\\nValues inside the function: \", mylist)\n",
    "    return mylist\n",
    "\n",
    "mylist = [10, 20, 30]\n",
    "print(\"\\nValues outside the function - before: \", mylist)\n",
    "\n",
    "mylist = changeme(mylist)\n",
    "print(\"\\nValues outside the function - after: \", mylist)"
   ]
  },
  {
   "cell_type": "code",
   "execution_count": 34,
   "metadata": {},
   "outputs": [
    {
     "data": {
      "text/plain": [
       "15.0"
      ]
     },
     "execution_count": 34,
     "metadata": {},
     "output_type": "execute_result"
    }
   ],
   "source": [
    "def segitiga(a, t):\n",
    "    luas = (a * t) / 2\n",
    "    return luas\n",
    "\n",
    "segitiga(5, 6)"
   ]
  },
  {
   "cell_type": "code",
   "execution_count": 35,
   "metadata": {},
   "outputs": [
    {
     "name": "stdout",
     "output_type": "stream",
     "text": [
      "Luas segitiga adalah:  15.0\n"
     ]
    }
   ],
   "source": [
    "def segitiga(a, t):\n",
    "    luas = (a * t) / 2\n",
    "    return luas\n",
    "\n",
    "print(\"Luas segitiga adalah: \", segitiga(5, 6))"
   ]
  },
  {
   "cell_type": "code",
   "execution_count": 36,
   "metadata": {},
   "outputs": [
    {
     "name": "stdout",
     "output_type": "stream",
     "text": [
      "Luas segitiga adalah:  None\n"
     ]
    }
   ],
   "source": [
    "def segitiga(a, t):\n",
    "    a * t / 2\n",
    "\n",
    "print(\"Luas segitiga adalah: \", segitiga(5, 6))"
   ]
  },
  {
   "cell_type": "code",
   "execution_count": 39,
   "metadata": {},
   "outputs": [
    {
     "name": "stdout",
     "output_type": "stream",
     "text": [
      "Luas segitiga adalah: 15\n",
      "Luas segitiga adalah: 15.00\n"
     ]
    }
   ],
   "source": [
    "def segitiga(a, t):\n",
    "    luas = (a * t) / 2\n",
    "    print(\"Luas segitiga adalah: %i\" %luas)         # format integer\n",
    "    print(\"Luas segitiga adalah: %.2f\" %luas)       # format float\n",
    "\n",
    "segitiga(5,6)"
   ]
  },
  {
   "cell_type": "markdown",
   "metadata": {},
   "source": [
    "## Keyword Arguments"
   ]
  },
  {
   "cell_type": "code",
   "execution_count": 42,
   "metadata": {},
   "outputs": [
    {
     "name": "stdout",
     "output_type": "stream",
     "text": [
      "Nama :  Aziz\n",
      "Usia :  24\n",
      "Nama :  Aziz\n",
      "Usia :  24\n",
      "Nama :  24\n",
      "Usia :  Aziz\n"
     ]
    }
   ],
   "source": [
    "def profil(nama, usia):\n",
    "    print(\"Nama : \", nama)\n",
    "    print(\"Usia : \", usia)\n",
    "\n",
    "profil(\"Aziz\", 24)\n",
    "profil(usia=24, nama=\"Aziz\")\n",
    "profil(24, \"Aziz\")"
   ]
  },
  {
   "cell_type": "markdown",
   "metadata": {},
   "source": [
    "(*) adalah asterisk"
   ]
  },
  {
   "cell_type": "code",
   "execution_count": 48,
   "metadata": {},
   "outputs": [
    {
     "ename": "TypeError",
     "evalue": "siswa() takes 1 positional argument but 5 were given",
     "output_type": "error",
     "traceback": [
      "\u001b[1;31m---------------------------------------------------------------------------\u001b[0m",
      "\u001b[1;31mTypeError\u001b[0m                                 Traceback (most recent call last)",
      "\u001b[1;32m~\\AppData\\Local\\Temp/ipykernel_3336/1064247630.py\u001b[0m in \u001b[0;36m<module>\u001b[1;34m\u001b[0m\n\u001b[0;32m      2\u001b[0m     \u001b[0mprint\u001b[0m\u001b[1;33m(\u001b[0m\u001b[1;34m\"Siswa kelas 2 yang hadir : \"\u001b[0m\u001b[1;33m,\u001b[0m \u001b[0mnama\u001b[0m\u001b[1;33m[\u001b[0m\u001b[1;33m:\u001b[0m\u001b[1;36m3\u001b[0m\u001b[1;33m]\u001b[0m\u001b[1;33m)\u001b[0m\u001b[1;33m\u001b[0m\u001b[1;33m\u001b[0m\u001b[0m\n\u001b[0;32m      3\u001b[0m \u001b[1;33m\u001b[0m\u001b[0m\n\u001b[1;32m----> 4\u001b[1;33m \u001b[0msiswa\u001b[0m\u001b[1;33m(\u001b[0m\u001b[1;34m'Ani'\u001b[0m\u001b[1;33m,\u001b[0m \u001b[1;34m'Budi'\u001b[0m\u001b[1;33m,\u001b[0m \u001b[1;34m'Ciko'\u001b[0m\u001b[1;33m,\u001b[0m \u001b[1;34m'Dinda'\u001b[0m\u001b[1;33m,\u001b[0m \u001b[1;34m'Edi'\u001b[0m\u001b[1;33m)\u001b[0m\u001b[1;33m\u001b[0m\u001b[1;33m\u001b[0m\u001b[0m\n\u001b[0m",
      "\u001b[1;31mTypeError\u001b[0m: siswa() takes 1 positional argument but 5 were given"
     ]
    }
   ],
   "source": [
    "def siswa(nama):\n",
    "    print(\"Siswa kelas 2 yang hadir : \", nama[:3])\n",
    "\n",
    "siswa('Ani', 'Budi', 'Ciko', 'Dinda', 'Edi')"
   ]
  },
  {
   "cell_type": "code",
   "execution_count": 50,
   "metadata": {},
   "outputs": [
    {
     "name": "stdout",
     "output_type": "stream",
     "text": [
      "Siswa kelas 2 yang hadir :  ('Ani', 'Budi', 'Ciko')\n"
     ]
    }
   ],
   "source": [
    "def siswa(*nama):\n",
    "    print(\"Siswa kelas 2 yang hadir : \", nama[:3])\n",
    "\n",
    "siswa('Ani', 'Budi', 'Ciko', 'Dinda', 'Edi')"
   ]
  },
  {
   "cell_type": "markdown",
   "metadata": {},
   "source": [
    "## Asterisk (Arg) dan Kwargs"
   ]
  },
  {
   "cell_type": "code",
   "execution_count": 51,
   "metadata": {},
   "outputs": [
    {
     "name": "stdout",
     "output_type": "stream",
     "text": [
      "Budi\n"
     ]
    }
   ],
   "source": [
    "def siswa(nama1, nama2, nama3, nama4):\n",
    "    print(nama2)\n",
    "siswa('Ani', 'Budi', 'Ciko', 'Dinda')"
   ]
  },
  {
   "cell_type": "code",
   "execution_count": 52,
   "metadata": {},
   "outputs": [
    {
     "name": "stdout",
     "output_type": "stream",
     "text": [
      "Dinda\n"
     ]
    }
   ],
   "source": [
    "def siswa(*nama):\n",
    "    print(nama[-1])\n",
    "siswa('Ani', 'Budi', 'Ciko', 'Dinda')"
   ]
  },
  {
   "cell_type": "code",
   "execution_count": 53,
   "metadata": {},
   "outputs": [
    {
     "name": "stdout",
     "output_type": "stream",
     "text": [
      "Ciko\n"
     ]
    }
   ],
   "source": [
    "def siswa(**nama):\n",
    "    print(nama['nama3'])\n",
    "siswa(nama1='Ani', nama2='Budi', nama3='Ciko', nama4='Dinda')"
   ]
  },
  {
   "cell_type": "markdown",
   "metadata": {},
   "source": [
    "## Lambda Function"
   ]
  },
  {
   "cell_type": "code",
   "execution_count": 54,
   "metadata": {},
   "outputs": [],
   "source": [
    "sum = lambda arg1, arg2 : arg1 + arg2\n",
    "\n",
    "# will equal to\n",
    "def sum(arg1, arg2):\n",
    "    return arg1 + arg2"
   ]
  },
  {
   "cell_type": "code",
   "execution_count": 57,
   "metadata": {},
   "outputs": [
    {
     "data": {
      "text/plain": [
       "13"
      ]
     },
     "execution_count": 57,
     "metadata": {},
     "output_type": "execute_result"
    }
   ],
   "source": [
    "def hitung(a, b):\n",
    "    return a**2 + b**2\n",
    "\n",
    "hitung(2, 3)"
   ]
  },
  {
   "cell_type": "code",
   "execution_count": 58,
   "metadata": {},
   "outputs": [
    {
     "data": {
      "text/plain": [
       "13"
      ]
     },
     "execution_count": 58,
     "metadata": {},
     "output_type": "execute_result"
    }
   ],
   "source": [
    "hitung = lambda a, b : a**2 + b**2\n",
    "\n",
    "hitung(2, 3)"
   ]
  },
  {
   "cell_type": "markdown",
   "metadata": {},
   "source": [
    "jadi alasan kenapa gak bisa kak:\n",
    "karena dia import sekali pas filenya kosong\n",
    "\n",
    "nah kan ipynb kernelnya masih jalan jadinya pas import lagi gak berubah (yang sebelumnya)\n",
    "\n",
    "kalau mau import module baru bisa restart kernel atau bisa pakek importlib.reload"
   ]
  },
  {
   "cell_type": "code",
   "execution_count": null,
   "metadata": {},
   "outputs": [],
   "source": []
  }
 ],
 "metadata": {
  "interpreter": {
   "hash": "75384fd0ca3c2952361a90566c13d130cab84e43a6c89416ac57c7dceece1b2d"
  },
  "kernelspec": {
   "display_name": "Python 3.9.7 64-bit ('base': conda)",
   "language": "python",
   "name": "python3"
  },
  "language_info": {
   "codemirror_mode": {
    "name": "ipython",
    "version": 3
   },
   "file_extension": ".py",
   "mimetype": "text/x-python",
   "name": "python",
   "nbconvert_exporter": "python",
   "pygments_lexer": "ipython3",
   "version": "3.9.7"
  },
  "orig_nbformat": 4
 },
 "nbformat": 4,
 "nbformat_minor": 2
}

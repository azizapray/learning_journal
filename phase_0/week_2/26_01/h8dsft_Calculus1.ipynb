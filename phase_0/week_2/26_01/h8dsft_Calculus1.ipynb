{
 "cells": [
  {
   "cell_type": "markdown",
   "metadata": {},
   "source": [
    "## Calculus Derivative"
   ]
  },
  {
   "cell_type": "code",
   "execution_count": 1,
   "metadata": {},
   "outputs": [],
   "source": [
    "import sympy as sy"
   ]
  },
  {
   "cell_type": "markdown",
   "metadata": {},
   "source": [
    "### Derivative Symbolic"
   ]
  },
  {
   "cell_type": "code",
   "execution_count": 2,
   "metadata": {},
   "outputs": [],
   "source": [
    "x = sy.Symbol('x')"
   ]
  },
  {
   "cell_type": "code",
   "execution_count": 3,
   "metadata": {},
   "outputs": [
    {
     "data": {
      "text/latex": [
       "$\\displaystyle x^{2} + 2 x + 1$"
      ],
      "text/plain": [
       "x**2 + 2*x + 1"
      ]
     },
     "execution_count": 3,
     "metadata": {},
     "output_type": "execute_result"
    }
   ],
   "source": [
    "a = x**2 + 2*x + 1\n",
    "a"
   ]
  },
  {
   "cell_type": "code",
   "execution_count": 9,
   "metadata": {},
   "outputs": [
    {
     "data": {
      "text/latex": [
       "$\\displaystyle 2 x + 2$"
      ],
      "text/plain": [
       "2*x + 2"
      ]
     },
     "execution_count": 9,
     "metadata": {},
     "output_type": "execute_result"
    }
   ],
   "source": [
    "a.diff()"
   ]
  },
  {
   "cell_type": "code",
   "execution_count": 4,
   "metadata": {},
   "outputs": [
    {
     "data": {
      "text/latex": [
       "$\\displaystyle 4 x^{3} - 3 x^{2} + 2 x - 1$"
      ],
      "text/plain": [
       "4*x**3 - 3*x**2 + 2*x - 1"
      ]
     },
     "execution_count": 4,
     "metadata": {},
     "output_type": "execute_result"
    }
   ],
   "source": [
    "b = 4*x**3 - 3*x**2 + 2*x - 1\n",
    "b"
   ]
  },
  {
   "cell_type": "code",
   "execution_count": 13,
   "metadata": {},
   "outputs": [
    {
     "data": {
      "text/latex": [
       "$\\displaystyle 12 x^{2} - 6 x + 2$"
      ],
      "text/plain": [
       "12*x**2 - 6*x + 2"
      ]
     },
     "execution_count": 13,
     "metadata": {},
     "output_type": "execute_result"
    }
   ],
   "source": [
    "b.diff()"
   ]
  },
  {
   "cell_type": "markdown",
   "metadata": {},
   "source": [
    "### Derivative Numeric"
   ]
  },
  {
   "cell_type": "code",
   "execution_count": 1,
   "metadata": {},
   "outputs": [],
   "source": [
    "import numpy as np"
   ]
  },
  {
   "cell_type": "code",
   "execution_count": 2,
   "metadata": {},
   "outputs": [],
   "source": [
    "x = np.linspace(0,20)"
   ]
  },
  {
   "cell_type": "code",
   "execution_count": 3,
   "metadata": {},
   "outputs": [
    {
     "data": {
      "text/plain": [
       "array([  1.        ,   1.98292378,   3.29904207,   4.94835485,\n",
       "         6.93086214,   9.24656393,  11.89546022,  14.87755102,\n",
       "        18.19283632,  21.84131612,  25.82299042,  30.13785923,\n",
       "        34.78592253,  39.76718034,  45.08163265,  50.72927947,\n",
       "        56.71012078,  63.0241566 ,  69.67138692,  76.65181175,\n",
       "        83.96543107,  91.6122449 ,  99.59225323, 107.90545606,\n",
       "       116.55185339, 125.53144523, 134.84423157, 144.49021241,\n",
       "       154.46938776, 164.7817576 , 175.42732195, 186.4060808 ,\n",
       "       197.71803415, 209.36318201, 221.34152436, 233.65306122,\n",
       "       246.29779259, 259.27571845, 272.58683882, 286.23115369,\n",
       "       300.20866306, 314.51936693, 329.16326531, 344.14035818,\n",
       "       359.45064556, 375.09412745, 391.07080383, 407.38067472,\n",
       "       424.02374011, 441.        ])"
      ]
     },
     "execution_count": 3,
     "metadata": {},
     "output_type": "execute_result"
    }
   ],
   "source": [
    "a = x**2 + 2*x + 1\n",
    "a"
   ]
  },
  {
   "cell_type": "code",
   "execution_count": 5,
   "metadata": {},
   "outputs": [
    {
     "data": {
      "text/plain": [
       "array([ 2.40816327,  3.2244898 ,  4.04081633,  4.85714286,  5.67346939,\n",
       "        6.48979592,  7.30612245,  8.12244898,  8.93877551,  9.75510204,\n",
       "       10.57142857, 11.3877551 , 12.20408163, 13.02040816, 13.83673469,\n",
       "       14.65306122, 15.46938776, 16.28571429, 17.10204082, 17.91836735,\n",
       "       18.73469388, 19.55102041, 20.36734694, 21.18367347, 22.        ,\n",
       "       22.81632653, 23.63265306, 24.44897959, 25.26530612, 26.08163265,\n",
       "       26.89795918, 27.71428571, 28.53061224, 29.34693878, 30.16326531,\n",
       "       30.97959184, 31.79591837, 32.6122449 , 33.42857143, 34.24489796,\n",
       "       35.06122449, 35.87755102, 36.69387755, 37.51020408, 38.32653061,\n",
       "       39.14285714, 39.95918367, 40.7755102 , 41.59183673])"
      ]
     },
     "execution_count": 5,
     "metadata": {},
     "output_type": "execute_result"
    }
   ],
   "source": [
    "df = np.diff(a)/np.diff(x)\n",
    "df"
   ]
  },
  {
   "cell_type": "code",
   "execution_count": 6,
   "metadata": {},
   "outputs": [
    {
     "data": {
      "text/plain": [
       "array([-1.00000000e+00, -4.11469711e-01,  8.09450144e-01,  4.29473264e+00,\n",
       "        1.16763508e+01,  2.45862778e+01,  4.46564867e+01,  7.35189504e+01,\n",
       "        1.12805642e+02,  1.64148535e+02,  2.29179602e+02,  3.09530816e+02,\n",
       "        4.06834151e+02,  5.22721579e+02,  6.58825073e+02,  8.16776607e+02,\n",
       "        9.98208153e+02,  1.20475169e+03,  1.43803918e+03,  1.69970260e+03,\n",
       "        1.99137393e+03,  2.31468513e+03,  2.67126819e+03,  3.06275507e+03,\n",
       "        3.49077775e+03,  3.95696819e+03,  4.46295838e+03,  5.01038029e+03,\n",
       "        5.60086589e+03,  6.23604715e+03,  6.91755604e+03,  7.64702455e+03,\n",
       "        8.42608463e+03,  9.25636827e+03,  1.01395074e+04,  1.10771341e+04,\n",
       "        1.20708803e+04,  1.31223778e+04,  1.42332589e+04,  1.54051553e+04,\n",
       "        1.66396990e+04,  1.79385221e+04,  1.93032566e+04,  2.07355343e+04,\n",
       "        2.22369872e+04,  2.38092474e+04,  2.54539468e+04,  2.71727174e+04,\n",
       "        2.89671911e+04,  3.08390000e+04])"
      ]
     },
     "execution_count": 6,
     "metadata": {},
     "output_type": "execute_result"
    }
   ],
   "source": [
    "b = 4*x**3 - 3*x**2 + 2*x - 1\n",
    "b"
   ]
  },
  {
   "cell_type": "code",
   "execution_count": 7,
   "metadata": {},
   "outputs": [
    {
     "data": {
      "text/plain": [
       "array([1.44189921e+00, 2.99125364e+00, 8.53894211e+00, 1.80849646e+01,\n",
       "       3.16293211e+01, 4.91720117e+01, 7.07130362e+01, 9.62523948e+01,\n",
       "       1.25790087e+02, 1.59326114e+02, 1.96860475e+02, 2.38393170e+02,\n",
       "       2.83924198e+02, 3.33453561e+02, 3.86981258e+02, 4.44507289e+02,\n",
       "       5.06031653e+02, 5.71554352e+02, 6.41075385e+02, 7.14594752e+02,\n",
       "       7.92112453e+02, 8.73628488e+02, 9.59142857e+02, 1.04865556e+03,\n",
       "       1.14216660e+03, 1.23967597e+03, 1.34118367e+03, 1.44668971e+03,\n",
       "       1.55619409e+03, 1.66969679e+03, 1.78719783e+03, 1.90869721e+03,\n",
       "       2.03419492e+03, 2.16369096e+03, 2.29718534e+03, 2.43467805e+03,\n",
       "       2.57616910e+03, 2.72165848e+03, 2.87114619e+03, 3.02463224e+03,\n",
       "       3.18211662e+03, 3.34359933e+03, 3.50908038e+03, 3.67855977e+03,\n",
       "       3.85203748e+03, 4.02951354e+03, 4.21098792e+03, 4.39646064e+03,\n",
       "       4.58593170e+03])"
      ]
     },
     "execution_count": 7,
     "metadata": {},
     "output_type": "execute_result"
    }
   ],
   "source": [
    "df = np.diff(b)/np.diff(x)\n",
    "df"
   ]
  },
  {
   "cell_type": "code",
   "execution_count": null,
   "metadata": {},
   "outputs": [],
   "source": []
  }
 ],
 "metadata": {
  "interpreter": {
   "hash": "75384fd0ca3c2952361a90566c13d130cab84e43a6c89416ac57c7dceece1b2d"
  },
  "kernelspec": {
   "display_name": "Python 3.9.7 64-bit ('base': conda)",
   "language": "python",
   "name": "python3"
  },
  "language_info": {
   "codemirror_mode": {
    "name": "ipython",
    "version": 3
   },
   "file_extension": ".py",
   "mimetype": "text/x-python",
   "name": "python",
   "nbconvert_exporter": "python",
   "pygments_lexer": "ipython3",
   "version": "3.9.7"
  },
  "orig_nbformat": 4
 },
 "nbformat": 4,
 "nbformat_minor": 2
}

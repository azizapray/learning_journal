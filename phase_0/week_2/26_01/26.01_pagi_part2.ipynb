{
 "cells": [
  {
   "cell_type": "markdown",
   "metadata": {},
   "source": [
    "## Turunan Parsial Symbolic"
   ]
  },
  {
   "cell_type": "code",
   "execution_count": 1,
   "metadata": {},
   "outputs": [],
   "source": [
    "import sympy as sy"
   ]
  },
  {
   "cell_type": "code",
   "execution_count": 2,
   "metadata": {},
   "outputs": [
    {
     "data": {
      "text/latex": [
       "$\\displaystyle x^{3} + 4 x y + x \\sin{\\left(z \\right)} + y z^{8}$"
      ],
      "text/plain": [
       "x**3 + 4*x*y + x*sin(z) + y*z**8"
      ]
     },
     "execution_count": 2,
     "metadata": {},
     "output_type": "execute_result"
    }
   ],
   "source": [
    "x,y,z = sy.symbols('x y z')\n",
    "f = 4*x*y + x*sy.sin(z) + x**3 + y*z**8\n",
    "f"
   ]
  },
  {
   "cell_type": "code",
   "execution_count": 3,
   "metadata": {},
   "outputs": [
    {
     "data": {
      "text/latex": [
       "$\\displaystyle 3 x^{2} + 4 y + \\sin{\\left(z \\right)}$"
      ],
      "text/plain": [
       "3*x**2 + 4*y + sin(z)"
      ]
     },
     "execution_count": 3,
     "metadata": {},
     "output_type": "execute_result"
    }
   ],
   "source": [
    "# Turunan parsial terhadap x\n",
    "sy.diff(f, x)"
   ]
  },
  {
   "cell_type": "code",
   "execution_count": 4,
   "metadata": {},
   "outputs": [
    {
     "data": {
      "text/latex": [
       "$\\displaystyle 4 x + z^{8}$"
      ],
      "text/plain": [
       "4*x + z**8"
      ]
     },
     "execution_count": 4,
     "metadata": {},
     "output_type": "execute_result"
    }
   ],
   "source": [
    "# Turunan parsial terhadap y\n",
    "f.diff(y)"
   ]
  },
  {
   "cell_type": "code",
   "execution_count": 5,
   "metadata": {},
   "outputs": [
    {
     "data": {
      "text/latex": [
       "$\\displaystyle x \\cos{\\left(z \\right)} + 8 y z^{7}$"
      ],
      "text/plain": [
       "x*cos(z) + 8*y*z**7"
      ]
     },
     "execution_count": 5,
     "metadata": {},
     "output_type": "execute_result"
    }
   ],
   "source": [
    "# Turunan parsial terhadap z\n",
    "f.diff(z)"
   ]
  },
  {
   "cell_type": "markdown",
   "metadata": {},
   "source": [
    "### Gradient"
   ]
  },
  {
   "cell_type": "code",
   "execution_count": 6,
   "metadata": {},
   "outputs": [
    {
     "data": {
      "text/latex": [
       "$\\displaystyle \\left[\\begin{matrix}3 x^{2} + 4 y + \\sin{\\left(z \\right)} & 4 x + z^{8} & x \\cos{\\left(z \\right)} + 8 y z^{7}\\end{matrix}\\right]$"
      ],
      "text/plain": [
       "[3*x**2 + 4*y + sin(z), 4*x + z**8, x*cos(z) + 8*y*z**7]"
      ]
     },
     "execution_count": 6,
     "metadata": {},
     "output_type": "execute_result"
    }
   ],
   "source": [
    "from sympy.tensor.array import derive_by_array\n",
    "\n",
    "grad = derive_by_array(f, (x,y,z))\n",
    "grad"
   ]
  },
  {
   "cell_type": "markdown",
   "metadata": {},
   "source": [
    "### Jacobian"
   ]
  },
  {
   "cell_type": "code",
   "execution_count": 7,
   "metadata": {},
   "outputs": [
    {
     "data": {
      "text/latex": [
       "$\\displaystyle \\left[\\begin{matrix}x^{y} + y\\\\2 x y - 2\\end{matrix}\\right]$"
      ],
      "text/plain": [
       "Matrix([\n",
       "[ x**y + y],\n",
       "[2*x*y - 2]])"
      ]
     },
     "execution_count": 7,
     "metadata": {},
     "output_type": "execute_result"
    }
   ],
   "source": [
    "f_jacob = sy.Matrix([x**y+y, 2*x*y - 2])\n",
    "f_jacob"
   ]
  },
  {
   "cell_type": "code",
   "execution_count": 8,
   "metadata": {},
   "outputs": [
    {
     "data": {
      "text/latex": [
       "$\\displaystyle \\left[\\begin{matrix}\\frac{x^{y} y}{x} & x^{y} \\log{\\left(x \\right)} + 1\\\\2 y & 2 x\\end{matrix}\\right]$"
      ],
      "text/plain": [
       "Matrix([\n",
       "[x**y*y/x, x**y*log(x) + 1],\n",
       "[     2*y,             2*x]])"
      ]
     },
     "execution_count": 8,
     "metadata": {},
     "output_type": "execute_result"
    }
   ],
   "source": [
    "par = sy.Matrix([x,y])\n",
    "f_jacob.jacobian(par)"
   ]
  },
  {
   "cell_type": "code",
   "execution_count": 9,
   "metadata": {},
   "outputs": [
    {
     "data": {
      "text/latex": [
       "$\\displaystyle \\left[\\begin{matrix}6 x & 4 & \\cos{\\left(z \\right)}\\\\4 & 0 & 8 z^{7}\\\\\\cos{\\left(z \\right)} & 8 z^{7} & - x \\sin{\\left(z \\right)} + 56 y z^{6}\\end{matrix}\\right]$"
      ],
      "text/plain": [
       "Matrix([\n",
       "[   6*x,      4,                cos(z)],\n",
       "[     4,      0,                8*z**7],\n",
       "[cos(z), 8*z**7, -x*sin(z) + 56*y*z**6]])"
      ]
     },
     "execution_count": 9,
     "metadata": {},
     "output_type": "execute_result"
    }
   ],
   "source": [
    "sy.Matrix(grad).jacobian(sy.Matrix([x,y,z]))"
   ]
  },
  {
   "cell_type": "markdown",
   "metadata": {},
   "source": [
    "### Hessian"
   ]
  },
  {
   "cell_type": "code",
   "execution_count": 10,
   "metadata": {},
   "outputs": [
    {
     "data": {
      "text/latex": [
       "$\\displaystyle x^{3} + 4 x y + x \\sin{\\left(z \\right)} + y z^{8}$"
      ],
      "text/plain": [
       "x**3 + 4*x*y + x*sin(z) + y*z**8"
      ]
     },
     "execution_count": 10,
     "metadata": {},
     "output_type": "execute_result"
    }
   ],
   "source": [
    "f"
   ]
  },
  {
   "cell_type": "code",
   "execution_count": 11,
   "metadata": {},
   "outputs": [
    {
     "data": {
      "text/latex": [
       "$\\displaystyle \\left[\\begin{matrix}6 x & 4 & \\cos{\\left(z \\right)}\\\\4 & 0 & 8 z^{7}\\\\\\cos{\\left(z \\right)} & 8 z^{7} & - x \\sin{\\left(z \\right)} + 56 y z^{6}\\end{matrix}\\right]$"
      ],
      "text/plain": [
       "Matrix([\n",
       "[   6*x,      4,                cos(z)],\n",
       "[     4,      0,                8*z**7],\n",
       "[cos(z), 8*z**7, -x*sin(z) + 56*y*z**6]])"
      ]
     },
     "execution_count": 11,
     "metadata": {},
     "output_type": "execute_result"
    }
   ],
   "source": [
    "sy.hessian(f,(x,y,z))"
   ]
  },
  {
   "cell_type": "markdown",
   "metadata": {},
   "source": [
    "## Turunan Parsial Numerik"
   ]
  },
  {
   "cell_type": "code",
   "execution_count": 3,
   "metadata": {},
   "outputs": [],
   "source": [
    "import numpy as np\n",
    "\n",
    "def f(x,y):\n",
    "    return x**2*y + 2*x**3*y + y**4\n",
    "\n",
    "x = np.linspace(1,10)\n",
    "y = np.linspace(1,10)\n",
    "\n",
    "z = np.array([[f(i,j) for i in x] for j in y])\n",
    "\n",
    "dx,dy = np.gradient(z)"
   ]
  },
  {
   "cell_type": "code",
   "execution_count": 7,
   "metadata": {},
   "outputs": [
    {
     "data": {
      "text/plain": [
       "array([[4.00000000e+00, 5.71793215e+00, 7.98252429e+00, ...,\n",
       "        1.88137733e+03, 1.98916795e+03, 2.10100000e+03],\n",
       "       [5.51405365e+00, 7.54752436e+00, 1.02280620e+01, ...,\n",
       "        2.22771579e+03, 2.35530469e+03, 2.48767732e+03],\n",
       "       [7.59758576e+00, 9.94659503e+00, 1.30430782e+01, ...,\n",
       "        2.57462373e+03, 2.72201090e+03, 2.87492412e+03],\n",
       "       ...,\n",
       "       [8.63851183e+03, 8.65506008e+03, 8.67687411e+03, ...,\n",
       "        2.67226363e+04, 2.77609459e+04, 2.88381853e+04],\n",
       "       [9.31474995e+03, 9.33161373e+03, 9.35384371e+03, ...,\n",
       "        2.77436988e+04, 2.88018068e+04, 2.98995867e+04],\n",
       "       [1.00300000e+04, 1.00471793e+04, 1.00698252e+04, ...,\n",
       "        2.88037733e+04, 2.98816795e+04, 3.10000000e+04]])"
      ]
     },
     "execution_count": 7,
     "metadata": {},
     "output_type": "execute_result"
    }
   ],
   "source": [
    "z"
   ]
  },
  {
   "cell_type": "code",
   "execution_count": 4,
   "metadata": {},
   "outputs": [
    {
     "data": {
      "text/plain": [
       "(50, 50)"
      ]
     },
     "execution_count": 4,
     "metadata": {},
     "output_type": "execute_result"
    }
   ],
   "source": [
    "z.shape"
   ]
  },
  {
   "cell_type": "code",
   "execution_count": 5,
   "metadata": {},
   "outputs": [
    {
     "data": {
      "text/plain": [
       "array([[   1.51405365,    1.82959221,    2.2455377 , ...,  346.33846043,\n",
       "         366.13673811,  386.67731896],\n",
       "       [   1.79879288,    2.11433144,    2.53027693, ...,  346.62319966,\n",
       "         366.42147734,  386.96205819],\n",
       "       [   2.46311416,    2.77865272,    3.19459822, ...,  347.28752094,\n",
       "         367.08579863,  387.62637947],\n",
       "       ...,\n",
       "       [ 657.45523618,  657.77077474,  658.18672024, ..., 1002.27964296,\n",
       "        1022.07792064, 1042.61850149],\n",
       "       [ 695.74408466,  696.05962322,  696.47556871, ..., 1040.56849144,\n",
       "        1060.36676912, 1080.90734997],\n",
       "       [ 715.25004974,  715.5655883 ,  715.98153379, ..., 1060.07445652,\n",
       "        1079.8727342 , 1100.41331505]])"
      ]
     },
     "execution_count": 5,
     "metadata": {},
     "output_type": "execute_result"
    }
   ],
   "source": [
    "dx"
   ]
  },
  {
   "cell_type": "code",
   "execution_count": 6,
   "metadata": {},
   "outputs": [
    {
     "data": {
      "text/plain": [
       "array([[   1.71793215,    1.99126214,    2.57510051, ...,  105.80708718,\n",
       "         109.81133711,  111.83205127],\n",
       "       [   2.03347071,    2.35700417,    3.04807816, ...,  125.24104197,\n",
       "         129.98076638,  132.37263212],\n",
       "       [   2.34900927,    2.7227462 ,    3.5210558 , ...,  144.67499676,\n",
       "         150.15019564,  152.91321296],\n",
       "       ...,\n",
       "       [  16.54824442,   19.18113739,   24.80504982, ..., 1019.20296225,\n",
       "        1057.7745126 , 1077.23935102],\n",
       "       [  16.86378298,   19.54687942,   25.27802746, ..., 1038.63691704,\n",
       "        1077.94394186, 1097.77993187],\n",
       "       [  17.17932154,   19.91262144,   25.75100511, ..., 1058.07087183,\n",
       "        1098.11337113, 1118.32051271]])"
      ]
     },
     "execution_count": 6,
     "metadata": {},
     "output_type": "execute_result"
    }
   ],
   "source": [
    "dy"
   ]
  },
  {
   "cell_type": "code",
   "execution_count": 10,
   "metadata": {},
   "outputs": [
    {
     "data": {
      "text/plain": [
       "Text(0.5, 1.0, 'dy')"
      ]
     },
     "execution_count": 10,
     "metadata": {},
     "output_type": "execute_result"
    },
    {
     "data": {
      "image/png": "[encoded data removed]",
      "text/plain": [
       "<Figure size 1224x360 with 3 Axes>"
      ]
     },
     "metadata": {
      "needs_background": "light"
     },
     "output_type": "display_data"
    }
   ],
   "source": [
    "# plot z,dx,dy yang dianggap sebagai sebuah gambar\n",
    "from matplotlib import pyplot as plt\n",
    "\n",
    "fig, ax = plt.subplots(ncols=3, figsize=(17,5))\n",
    "ax[0].imshow(z)\n",
    "ax[0].set_title('f(x,y)')\n",
    "ax[1].imshow(dx)\n",
    "ax[1].set_title('dx')\n",
    "ax[2].imshow(dy)\n",
    "ax[2].set_title('dy')"
   ]
  },
  {
   "cell_type": "code",
   "execution_count": null,
   "metadata": {},
   "outputs": [],
   "source": []
  }
 ],
 "metadata": {
  "interpreter": {
   "hash": "75384fd0ca3c2952361a90566c13d130cab84e43a6c89416ac57c7dceece1b2d"
  },
  "kernelspec": {
   "display_name": "Python 3.9.7 64-bit ('base': conda)",
   "language": "python",
   "name": "python3"
  },
  "language_info": {
   "codemirror_mode": {
    "name": "ipython",
    "version": 3
   },
   "file_extension": ".py",
   "mimetype": "text/x-python",
   "name": "python",
   "nbconvert_exporter": "python",
   "pygments_lexer": "ipython3",
   "version": "3.9.7"
  },
  "orig_nbformat": 4
 },
 "nbformat": 4,
 "nbformat_minor": 2
}

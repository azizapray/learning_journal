{
 "cells": [
  {
   "cell_type": "markdown",
   "metadata": {},
   "source": [
    "# Probabilitas"
   ]
  },
  {
   "cell_type": "markdown",
   "metadata": {},
   "source": [
    "- experiment/trial: action yang menghasilkann outcome  -->    pelemparan dadu\n",
    "- sample space    : every possiblle outcome            -->    [1,2,3,4,5,6]\n",
    "- sample point    : single possible outcome            -->    1/2/3/4/5/6\n",
    "- event           : a specific outcome                 -->    dadu angka 3 --> P(A) = 1/6"
   ]
  },
  {
   "cell_type": "code",
   "execution_count": null,
   "metadata": {},
   "outputs": [],
   "source": []
  }
 ],
 "metadata": {
  "language_info": {
   "name": "python"
  },
  "orig_nbformat": 4
 },
 "nbformat": 4,
 "nbformat_minor": 2
}
